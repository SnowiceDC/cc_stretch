{
 "cells": [
  {
   "cell_type": "markdown",
   "metadata": {},
   "source": [
    "To read a file and create a list of lines, the open method can be used with the readlines sub method."
   ]
  },
  {
   "cell_type": "code",
   "execution_count": 1,
   "metadata": {},
   "outputs": [
    {
     "data": {
      "text/plain": [
       "['# This is a syslogd data file with some example of log lines\\n',\n",
       " '\\n',\n",
       " 'INFO: [2344] 04-12-19_12:31:03 Starting squid\\n',\n",
       " 'WARNING: [2334] 04-12-19_12:31:03 NTP server is out of range\\n',\n",
       " 'INFO: [1900] 04-12-19_12:31:04 NGINX is running with default config\\n',\n",
       " 'CRITICAL: [2432] 04-12-19_12:31:05 Squid process was killed. Trying to start a\\n',\n",
       " 'new process\\n']"
      ]
     },
     "execution_count": 1,
     "metadata": {},
     "output_type": "execute_result"
    }
   ],
   "source": [
    "open('example_files/syslog.txt', 'r').readlines()"
   ]
  },
  {
   "cell_type": "markdown",
   "metadata": {},
   "source": [
    "Each item on the list will be a new string object, to create a list of itens the sub method split of the string object can be used. Split method receive a character to split data, if none is passed it will use spaces to split data."
   ]
  },
  {
   "cell_type": "code",
   "execution_count": 2,
   "metadata": {},
   "outputs": [
    {
     "data": {
      "text/plain": [
       "['INFO:', '[2344]', '04-12-19_12:31:03', 'Starting', 'squid']"
      ]
     },
     "execution_count": 2,
     "metadata": {},
     "output_type": "execute_result"
    }
   ],
   "source": [
    "\"INFO: [2344] 04-12-19_12:31:03 Starting squid\\n\".split()"
   ]
  },
  {
   "cell_type": "markdown",
   "metadata": {},
   "source": [
    "To split a csv line, the character , (or the character used to separate fields) must be used.\n",
    "Will return a list of fields of csv data."
   ]
  },
  {
   "cell_type": "code",
   "execution_count": 3,
   "metadata": {},
   "outputs": [
    {
     "data": {
      "text/plain": [
       "['word1', 'word2', 'word3']"
      ]
     },
     "execution_count": 3,
     "metadata": {},
     "output_type": "execute_result"
    }
   ],
   "source": [
    "\"word1,word2,word3\".split(',')"
   ]
  },
  {
   "cell_type": "markdown",
   "metadata": {},
   "source": [
    "The for function in python is used to run inside a iterator object.\n",
    "Items in a list can be accessed in two ways by the for function, by the own object or the position of this object.\n",
    "```\n",
    "> list:     ['word1', ['word2'], ['word3']\n",
    "> position:     0         1          2\n",
    "```\n",
    "The len function count the itens inside the list and the range function can create a new list with integer objects to run a list by the positions."
   ]
  },
  {
   "cell_type": "code",
   "execution_count": 4,
   "metadata": {},
   "outputs": [
    {
     "name": "stdout",
     "output_type": "stream",
     "text": [
      "word1\n",
      "word2\n",
      "word3\n",
      "word1\n",
      "word2\n",
      "word3\n"
     ]
    }
   ],
   "source": [
    "list_of_words = \"word1,word2,word3\".split(',')\n",
    "for position in range(len(list_of_words)):\n",
    "    print(list_of_words[position])\n",
    "for word in list_of_words:\n",
    "    print(word)"
   ]
  },
  {
   "cell_type": "markdown",
   "metadata": {},
   "source": [
    "The open method also can be used to write data in a file, the with method will guarantee that the file opened is close when the opened file will not be used again."
   ]
  },
  {
   "cell_type": "code",
   "execution_count": 5,
   "metadata": {},
   "outputs": [
    {
     "name": "stdout",
     "output_type": "stream",
     "text": [
      "Object: word1\r\n",
      "Object: word2\r\n",
      "Object: word3\r\n",
      "Position 0: word1Position 1: word2Position 2: word3"
     ]
    }
   ],
   "source": [
    "list_of_words = \"word1,word2,word3\".split(',')\n",
    "with open('new_file', 'w') as new_file:\n",
    "    # Save data with object\n",
    "    for word in list_of_words:\n",
    "        new_file.write(\"Object: {}\\n\".format(word))\n",
    "    # Save data by the position\n",
    "    for position in range(len(list_of_words)):\n",
    "        new_file.write(\"Position {}: {}\".format(position, list_of_words[position]))\n",
    "        \n",
    "!cat new_file\n",
    "\n",
    "!rm new_file"
   ]
  }
 ],
 "metadata": {
  "kernelspec": {
   "display_name": "Python 3",
   "language": "python",
   "name": "python3"
  },
  "language_info": {
   "codemirror_mode": {
    "name": "ipython",
    "version": 3
   },
   "file_extension": ".py",
   "mimetype": "text/x-python",
   "name": "python",
   "nbconvert_exporter": "python",
   "pygments_lexer": "ipython3",
   "version": "3.6.8"
  }
 },
 "nbformat": 4,
 "nbformat_minor": 2
}
